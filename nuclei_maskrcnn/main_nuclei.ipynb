{
 "cells": [
  {
   "cell_type": "markdown",
   "metadata": {
    "collapsed": true
   },
   "source": [
    "# Main script for nuclei segmentation"
   ]
  },
  {
   "cell_type": "code",
   "execution_count": 1,
   "metadata": {},
   "outputs": [
    {
     "name": "stderr",
     "output_type": "stream",
     "text": [
      "/home/jieyang/miniconda2/envs/keras2/lib/python2.7/site-packages/h5py/__init__.py:34: FutureWarning: Conversion of the second argument of issubdtype from `float` to `np.floating` is deprecated. In future, it will be treated as `np.float64 == np.dtype(float).type`.\n",
      "  from ._conv import register_converters as _register_converters\n",
      "Using TensorFlow backend.\n"
     ]
    }
   ],
   "source": [
    "import os\n",
    "import sys\n",
    "import random\n",
    "import math\n",
    "import numpy as np\n",
    "import skimage.io\n",
    "import matplotlib\n",
    "import matplotlib.pyplot as plt\n",
    "from sklearn.model_selection import train_test_split\n",
    "import pandas as pd\n",
    "import json\n",
    "import cv2\n",
    "\n",
    "from config import Config\n",
    "import utils\n",
    "import model as modellib\n",
    "import visualize\n",
    "import pycocotools.mask as mask_coco\n",
    "import pycocotools._mask as _mask_coco\n",
    "from model import log\n",
    "%matplotlib inline \n",
    "\n",
    "# Root directory of the project\n",
    "ROOT_DIR = os.getcwd()\n",
    "\n",
    "# Directory to save logs and trained model\n",
    "MODEL_DIR = os.path.join(ROOT_DIR, \"logs\")\n",
    "\n",
    "# pre-trained weights file\n",
    "COCO_MODEL_PATH = os.path.join(ROOT_DIR, \"mask_rcnn_coco.h5\")\n",
    "\n",
    "if not os.path.exists(COCO_MODEL_PATH):\n",
    "    utils.download_trained_weights(COCO_MODEL_PATH)\n",
    "\n",
    "# Directory of nuclei data\n",
    "DATA_DIR = os.path.join(ROOT_DIR, \"data\")\n",
    "TRAIN_DATA_PATH = os.path.join(DATA_DIR,\"stage1_train\")\n",
    "TEST_DATA_PATH = os.path.join(DATA_DIR,\"stage1_test\")\n",
    "TEST_MASK_SAVE_PATH = os.path.join(DATA_DIR,\"stage1_masks_test\")\n",
    "\n",
    "import tensorflow as tf\n",
    "config_tf = tf.ConfigProto()\n",
    "config_tf.gpu_options.allow_growth = True\n",
    "session=tf.Session(config=config_tf)\n",
    "\n",
    "train_flag = True\n",
    "\n",
    "os.environ[\"CUDA_VISIBLE_DEVICES\"] = \"0\""
   ]
  },
  {
   "cell_type": "markdown",
   "metadata": {},
   "source": [
    "### configuration"
   ]
  },
  {
   "cell_type": "code",
   "execution_count": 2,
   "metadata": {},
   "outputs": [
    {
     "name": "stdout",
     "output_type": "stream",
     "text": [
      "\n",
      "Configurations:\n",
      "BACKBONE_SHAPES                [[352 352]\n",
      " [176 176]\n",
      " [ 88  88]\n",
      " [ 44  44]\n",
      " [ 22  22]]\n",
      "BACKBONE_STRIDES               [4, 8, 16, 32, 64]\n",
      "BATCH_SIZE                     1\n",
      "BBOX_STD_DEV                   [0.1 0.1 0.2 0.2]\n",
      "DETECTION_MAX_INSTANCES        100\n",
      "DETECTION_MIN_CONFIDENCE       0.7\n",
      "DETECTION_NMS_THRESHOLD        0.3\n",
      "GPU_COUNT                      1\n",
      "IMAGES_PER_GPU                 1\n",
      "IMAGE_MAX_DIM                  1408\n",
      "IMAGE_MIN_DIM                  256\n",
      "IMAGE_PADDING                  True\n",
      "IMAGE_SHAPE                    [1408 1408    3]\n",
      "LEARNING_MOMENTUM              0.9\n",
      "LEARNING_RATE                  0.001\n",
      "MASK_POOL_SIZE                 14\n",
      "MASK_SHAPE                     [28, 28]\n",
      "MAX_GT_INSTANCES               400\n",
      "MEAN_PIXEL                     [123.7 116.8 103.9]\n",
      "MINI_MASK_SHAPE                (56, 56)\n",
      "NAME                           nuclei_train\n",
      "NUM_CLASSES                    2\n",
      "POOL_SIZE                      7\n",
      "POST_NMS_ROIS_INFERENCE        1000\n",
      "POST_NMS_ROIS_TRAINING         2000\n",
      "ROI_POSITIVE_RATIO             0.33\n",
      "RPN_ANCHOR_RATIOS              [0.5, 1, 2]\n",
      "RPN_ANCHOR_SCALES              (32, 64, 128, 256, 512)\n",
      "RPN_ANCHOR_STRIDE              1\n",
      "RPN_BBOX_STD_DEV               [0.1 0.1 0.2 0.2]\n",
      "RPN_NMS_THRESHOLD              0.7\n",
      "RPN_TRAIN_ANCHORS_PER_IMAGE    256\n",
      "STEPS_PER_EPOCH                1064\n",
      "TRAIN_ROIS_PER_IMAGE           200\n",
      "USE_MINI_MASK                  True\n",
      "USE_RPN_ROIS                   True\n",
      "VALIDATION_STEPS               5\n",
      "WEIGHT_DECAY                   0.0001\n",
      "\n",
      "\n"
     ]
    }
   ],
   "source": [
    "class TrainingConfig(Config):\n",
    "    \"\"\"Configuration for training\n",
    "    Derives from the base Config class and overrides values specific\n",
    "    to nulcei segmentation task\n",
    "    \"\"\"\n",
    "    # Give the configuration a recognizable name\n",
    "    NAME = \"nuclei_train\"\n",
    "\n",
    "    # We use a GPU with 12GB memory, which can fit two images.\n",
    "    # Adjust down if you use a smaller GPU.\n",
    "    IMAGES_PER_GPU = 1\n",
    "\n",
    "    # Uncomment to train on 2 GPUs (default is 1)\n",
    "    GPU_COUNT = 1\n",
    "\n",
    "    # Number of classes (including background)\n",
    "    NUM_CLASSES = 1 + 1  # only nuclei and bg\n",
    "\n",
    "    IMAGE_MIN_DIM = 256\n",
    "    IMAGE_MAX_DIM = 1408\n",
    "    \n",
    "    VALIDATION_STEPS = 5\n",
    "    \n",
    "    STEPS_PER_EPOCH = 1064\n",
    "    \n",
    "    MAX_GT_INSTANCES = 400\n",
    "\n",
    "config = TrainingConfig()\n",
    "config.display()"
   ]
  },
  {
   "cell_type": "markdown",
   "metadata": {},
   "source": [
    "### load data"
   ]
  },
  {
   "cell_type": "code",
   "execution_count": 3,
   "metadata": {
    "collapsed": true
   },
   "outputs": [],
   "source": [
    "class NucleiDataset(utils.Dataset):\n",
    "    def load_image(self, image_id):\n",
    "        \"\"\"Load the specified image and return a [H,W,3] Numpy array.\n",
    "        \"\"\"\n",
    "        # Load image\n",
    "        image = skimage.io.imread(self.image_info[image_id]['path'])\n",
    "        # If grayscale. Convert to RGB for consistency.\n",
    "        if image.ndim != 3:\n",
    "            image = skimage.color.gray2rgb(image)\n",
    "        elif image.shape[2]==4:\n",
    "            image = image[:,:,:3]\n",
    "        return image\n",
    "\n",
    "    def load_mask(self, image_id):\n",
    "        \"\"\"Load instance masks for the given image.\n",
    "\n",
    "        Different datasets use different ways to store masks. Override this\n",
    "        method to load instance masks and return them in the form of an\n",
    "        array of binary masks of shape [height, width, instances].\n",
    "\n",
    "        Returns:\n",
    "            masks: A bool array of shape [height, width, instance count] with\n",
    "                a binary mask per instance.\n",
    "            class_ids: a 1D array of class IDs of the instance masks.\n",
    "        \"\"\"\n",
    "        # Override this function to load a mask from your dataset.\n",
    "        # Otherwise, it returns an empty mask.\n",
    "        \n",
    "        mask_dir = os.path.dirname(self.image_info[image_id]['path']).replace('images','masks')\n",
    "        mask_files = next(os.walk(mask_dir))[2]\n",
    "        num_inst = len(mask_files)\n",
    "        \n",
    "        # get the shape of the image\n",
    "        mask0 = skimage.io.imread(os.path.join(mask_dir,mask_files[0]))\n",
    "        \n",
    "        class_ids = np.ones(len(mask_files), np.int32)\n",
    "        \n",
    "        mask = np.zeros([mask0.shape[0],mask0.shape[1],num_inst])\n",
    "        for k in range(num_inst):\n",
    "            mask[:,:,k] = skimage.io.imread(os.path.join(mask_dir,mask_files[k]))\n",
    "        return mask, class_ids"
   ]
  },
  {
   "cell_type": "code",
   "execution_count": 4,
   "metadata": {
    "collapsed": true
   },
   "outputs": [],
   "source": [
    "import pickle\n",
    "h = open('image_group.pickle')\n",
    "d = pickle.load(h)\n",
    "train_ids = [];\n",
    "val_ids = []\n",
    "for k in range(1,7):\n",
    "    train_id, val_id = train_test_split(d[k],train_size=0.8, random_state=1234)\n",
    "    train_ids.extend(train_id)\n",
    "    val_ids.extend(val_id)"
   ]
  },
  {
   "cell_type": "code",
   "execution_count": 5,
   "metadata": {
    "collapsed": true
   },
   "outputs": [],
   "source": [
    "# train_ids = next(os.walk(TRAIN_DATA_PATH))[1]\n",
    "\n",
    "# train_ids, val_ids = train_test_split(train_ids,train_size=0.792, random_state=1234)\n",
    "import random\n",
    "random.seed(1234)\n",
    "random.shuffle(train_ids)\n",
    "random.shuffle(val_ids)\n",
    "\n",
    "test_ids = next(os.walk(TEST_DATA_PATH))[1]\n",
    "\n",
    "dataset_train = NucleiDataset()\n",
    "dataset_train.add_class(\"cell\",1,\"nulcei\")\n",
    "for k, train_id in enumerate(train_ids):\n",
    "    dataset_train.add_image(\"cell\",k,os.path.join(TRAIN_DATA_PATH,train_id,'images',train_id+'.png'))\n",
    "dataset_train.prepare()\n",
    "    \n",
    "dataset_val = NucleiDataset()\n",
    "dataset_val.add_class(\"cell\",1,\"nulcei\")\n",
    "for k, val_id in enumerate(val_ids):\n",
    "    dataset_val.add_image(\"cell\",k,os.path.join(TRAIN_DATA_PATH,val_id,'images',val_id+'.png'))\n",
    "dataset_val.prepare()\n",
    "\n",
    "dataset_test = NucleiDataset()\n",
    "dataset_test.add_class(\"cell\",1,\"nulcei\")\n",
    "for k, test_id in enumerate(test_ids):\n",
    "    dataset_test.add_image(\"cell\",k,os.path.join(TEST_DATA_PATH,test_id,'images',test_id+'.png'))\n",
    "dataset_test.prepare()\n"
   ]
  },
  {
   "cell_type": "code",
   "execution_count": 6,
   "metadata": {},
   "outputs": [
    {
     "name": "stdout",
     "output_type": "stream",
     "text": [
      "532 136\n",
      "(256, 256, 3)\n"
     ]
    },
    {
     "data": {
      "text/plain": [
       "<matplotlib.image.AxesImage at 0x7f2aa782ca50>"
      ]
     },
     "execution_count": 6,
     "metadata": {},
     "output_type": "execute_result"
    },
    {
     "data": {
      "image/png": "[encoded data removed]",
      "text/plain": [
       "<matplotlib.figure.Figure at 0x7f2aaa3903d0>"
      ]
     },
     "metadata": {},
     "output_type": "display_data"
    },
    {
     "data": {
      "image/png": "[encoded data removed]",
      "text/plain": [
       "<matplotlib.figure.Figure at 0x7f2a71da1a50>"
      ]
     },
     "metadata": {},
     "output_type": "display_data"
    },
    {
     "data": {
      "image/png": "[encoded data removed]",
      "text/plain": [
       "<matplotlib.figure.Figure at 0x7f2aa79a4f90>"
      ]
     },
     "metadata": {},
     "output_type": "display_data"
    },
    {
     "data": {
      "image/png": "[encoded data removed]",
      "text/plain": [
       "<matplotlib.figure.Figure at 0x7f2aa78b8f10>"
      ]
     },
     "metadata": {},
     "output_type": "display_data"
    }
   ],
   "source": [
    "print len(train_ids),len(val_ids)\n",
    "img = dataset_train.load_image(0)\n",
    "print img.shape\n",
    "plt.figure()\n",
    "plt.imshow(img)\n",
    "masks,class_ids = dataset_train.load_mask(0)\n",
    "plt.figure()\n",
    "plt.imshow(np.sum(masks,axis=2))\n",
    "\n",
    "img = dataset_val.load_image(0)\n",
    "plt.figure()\n",
    "plt.imshow(img)\n",
    "masks,class_ids = dataset_val.load_mask(0)\n",
    "plt.figure()\n",
    "plt.imshow(np.sum(masks,axis=2))"
   ]
  },
  {
   "cell_type": "markdown",
   "metadata": {},
   "source": [
    "### Create Model and Load Pre-trained Weights"
   ]
  },
  {
   "cell_type": "code",
   "execution_count": 7,
   "metadata": {
    "collapsed": true
   },
   "outputs": [],
   "source": [
    "# Create model object in training mode.\n",
    "model = modellib.MaskRCNN(mode=\"training\", model_dir=MODEL_DIR, config=config)\n",
    "\n",
    "# Which weights to start with?\n",
    "init_with = \"coco\"  # imagenet, coco, or last\n",
    "\n",
    "if init_with == \"imagenet\":\n",
    "    model.load_weights(model.get_imagenet_weights(), by_name=True)\n",
    "elif init_with == \"coco\":\n",
    "    # Load weights trained on MS COCO, but skip layers that\n",
    "    # are different due to the different number of classes\n",
    "    model.load_weights(COCO_MODEL_PATH, by_name=True,\n",
    "                       exclude=[\"mrcnn_class_logits\", \"mrcnn_bbox_fc\", \n",
    "                                \"mrcnn_bbox\", \"mrcnn_mask\"])\n",
    "elif init_with == \"last\":\n",
    "    # Load the last model you trained and continue training\n",
    "    model.load_weights(model.find_last()[1], by_name=True)"
   ]
  },
  {
   "cell_type": "markdown",
   "metadata": {},
   "source": [
    "### Training\n",
    "\n",
    "Train in two stages:\n",
    "1. Only the heads. Here we're freezing all the backbone layers and training only the randomly initialized layers (i.e. the ones that we didn't use pre-trained weights from MS COCO). To train only the head layers, pass `layers='heads'` to the `train()` function.\n",
    "\n",
    "2. Fine-tune all layers. For this simple example it's not necessary, but we're including it to show the process. Simply pass `layers=\"all` to train all layers."
   ]
  },
  {
   "cell_type": "code",
   "execution_count": 8,
   "metadata": {},
   "outputs": [
    {
     "name": "stdout",
     "output_type": "stream",
     "text": [
      "\n",
      "Starting at epoch 0. LR=0.001\n",
      "\n",
      "Checkpoint Path: /home/jieyang/code/TOOK18/nuclei_maskrcnn/logs/nuclei_train20180129T1047/mask_rcnn_nuclei_train_{epoch:04d}.h5\n",
      "Selecting layers to train\n",
      "fpn_c5p5               (Conv2D)\n",
      "fpn_c4p4               (Conv2D)\n",
      "fpn_c3p3               (Conv2D)\n",
      "fpn_c2p2               (Conv2D)\n",
      "fpn_p5                 (Conv2D)\n",
      "fpn_p2                 (Conv2D)\n",
      "fpn_p3                 (Conv2D)\n",
      "fpn_p4                 (Conv2D)\n",
      "('In model: ', 'rpn_model')\n",
      "    rpn_conv_shared        (Conv2D)\n",
      "    rpn_class_raw          (Conv2D)\n",
      "    rpn_bbox_pred          (Conv2D)\n",
      "mrcnn_mask_conv1       (TimeDistributed)\n",
      "mrcnn_mask_bn1         (TimeDistributed)\n",
      "mrcnn_mask_conv2       (TimeDistributed)\n",
      "mrcnn_mask_bn2         (TimeDistributed)\n",
      "mrcnn_class_conv1      (TimeDistributed)\n",
      "mrcnn_class_bn1        (TimeDistributed)\n",
      "mrcnn_mask_conv3       (TimeDistributed)\n",
      "mrcnn_mask_bn3         (TimeDistributed)\n",
      "mrcnn_class_conv2      (TimeDistributed)\n",
      "mrcnn_class_bn2        (TimeDistributed)\n",
      "mrcnn_mask_conv4       (TimeDistributed)\n",
      "mrcnn_mask_bn4         (TimeDistributed)\n",
      "mrcnn_bbox_fc          (TimeDistributed)\n",
      "mrcnn_mask_deconv      (TimeDistributed)\n",
      "mrcnn_class_logits     (TimeDistributed)\n",
      "mrcnn_mask             (TimeDistributed)\n"
     ]
    },
    {
     "name": "stderr",
     "output_type": "stream",
     "text": [
      "/home/jieyang/miniconda2/envs/keras2/lib/python2.7/site-packages/tensorflow/python/ops/gradients_impl.py:96: UserWarning: Converting sparse IndexedSlices to a dense Tensor of unknown shape. This may consume a large amount of memory.\n",
      "  \"Converting sparse IndexedSlices to a dense Tensor of unknown shape. \"\n",
      "/home/jieyang/miniconda2/envs/keras2/lib/python2.7/site-packages/keras/engine/training.py:2033: UserWarning: Using a generator with `use_multiprocessing=True` and multiple workers may duplicate your data. Please consider using the`keras.utils.Sequence class.\n",
      "  UserWarning('Using a generator with `use_multiprocessing=True`'\n"
     ]
    },
    {
     "name": "stdout",
     "output_type": "stream",
     "text": [
      "Epoch 1/10\n",
      " 306/1064 [=======>......................] - ETA: 26:52 - loss: 1.5221 - rpn_class_loss: 0.1025 - rpn_bbox_loss: 0.4790 - mrcnn_class_loss: 0.2856 - mrcnn_bbox_loss: 0.3307 - mrcnn_mask_loss: 0.3243"
     ]
    },
    {
     "name": "stderr",
     "output_type": "stream",
     "text": [
      "/home/jieyang/miniconda2/envs/keras2/lib/python2.7/site-packages/scipy/ndimage/interpolation.py:616: UserWarning: From scipy 0.13.0, the output shape of zoom() is calculated with round() instead of int() - for these inputs the size of the returned array has changed.\n",
      "  \"the returned array has changed.\", UserWarning)\n"
     ]
    },
    {
     "name": "stdout",
     "output_type": "stream",
     "text": [
      " 851/1064 [======================>.......] - ETA: 7:19 - loss: 1.1981 - rpn_class_loss: 0.0533 - rpn_bbox_loss: 0.4206 - mrcnn_class_loss: 0.2314 - mrcnn_bbox_loss: 0.2341 - mrcnn_mask_loss: 0.2587"
     ]
    },
    {
     "name": "stderr",
     "output_type": "stream",
     "text": [
      "/home/jieyang/miniconda2/envs/keras2/lib/python2.7/site-packages/scipy/ndimage/interpolation.py:616: UserWarning: From scipy 0.13.0, the output shape of zoom() is calculated with round() instead of int() - for these inputs the size of the returned array has changed.\n",
      "  \"the returned array has changed.\", UserWarning)\n"
     ]
    },
    {
     "name": "stdout",
     "output_type": "stream",
     "text": [
      "1064/1064 [==============================] - 2171s 2s/step - loss: 1.1576 - rpn_class_loss: 0.0467 - rpn_bbox_loss: 0.4130 - mrcnn_class_loss: 0.2234 - mrcnn_bbox_loss: 0.2221 - mrcnn_mask_loss: 0.2525 - val_loss: 0.9613 - val_rpn_class_loss: 0.0326 - val_rpn_bbox_loss: 0.3675 - val_mrcnn_class_loss: 0.1993 - val_mrcnn_bbox_loss: 0.1373 - val_mrcnn_mask_loss: 0.2246\n",
      "Epoch 2/10\n",
      "1064/1064 [==============================] - 2146s 2s/step - loss: 0.8990 - rpn_class_loss: 0.0195 - rpn_bbox_loss: 0.3376 - mrcnn_class_loss: 0.1784 - mrcnn_bbox_loss: 0.1509 - mrcnn_mask_loss: 0.2125 - val_loss: 0.7969 - val_rpn_class_loss: 0.0276 - val_rpn_bbox_loss: 0.3159 - val_mrcnn_class_loss: 0.1748 - val_mrcnn_bbox_loss: 0.0784 - val_mrcnn_mask_loss: 0.2001\n",
      "Epoch 3/10\n",
      " 140/1064 [==>...........................] - ETA: 27:17 - loss: 0.8099 - rpn_class_loss: 0.0151 - rpn_bbox_loss: 0.2799 - mrcnn_class_loss: 0.1637 - mrcnn_bbox_loss: 0.1416 - mrcnn_mask_loss: 0.2097"
     ]
    },
    {
     "name": "stderr",
     "output_type": "stream",
     "text": [
      "Process Process-2:\n",
      "Traceback (most recent call last):\n",
      "  File \"/home/jieyang/miniconda2/envs/keras2/lib/python2.7/multiprocessing/process.py\", line 258, in _bootstrap\n",
      "    self.run()\n",
      "  File \"/home/jieyang/miniconda2/envs/keras2/lib/python2.7/multiprocessing/process.py\", line 114, in run\n",
      "    self._target(*self._args, **self._kwargs)\n",
      "  File \"/home/jieyang/miniconda2/envs/keras2/lib/python2.7/site-packages/keras/utils/data_utils.py\", line 654, in _data_generator_task\n",
      "    generator_output = next(self._generator)\n",
      "  File \"model.py\", line 1664, in data_generator\n",
      "    use_mini_mask=config.USE_MINI_MASK)\n",
      "  File \"model.py\", line 1182, in load_image_gt\n",
      "    bbox = utils.extract_bboxes(mask)\n",
      "Process Process-3:\n",
      "  File \"utils.py\", line 44, in extract_bboxes\n",
      "Traceback (most recent call last):\n",
      "    mask_rle: run-length as string formated (start length)\n",
      "  File \"/home/jieyang/miniconda2/envs/keras2/lib/python2.7/site-packages/numpy/core/fromnumeric.py\", line 2018, in any\n",
      "  File \"/home/jieyang/miniconda2/envs/keras2/lib/python2.7/multiprocessing/process.py\", line 258, in _bootstrap\n",
      "    self.run()\n",
      "    return arr.any(axis=axis, out=out, **kwargs)\n",
      "  File \"/home/jieyang/miniconda2/envs/keras2/lib/python2.7/site-packages/numpy/core/_methods.py\", line 38, in _any\n",
      "  File \"/home/jieyang/miniconda2/envs/keras2/lib/python2.7/multiprocessing/process.py\", line 114, in run\n",
      "    return umr_any(a, axis, dtype, out, keepdims)\n",
      "    self._target(*self._args, **self._kwargs)\n",
      "KeyboardInterrupt\n",
      "  File \"/home/jieyang/miniconda2/envs/keras2/lib/python2.7/site-packages/keras/utils/data_utils.py\", line 654, in _data_generator_task\n",
      "    generator_output = next(self._generator)\n",
      "  File \"model.py\", line 1664, in data_generator\n",
      "    use_mini_mask=config.USE_MINI_MASK)\n",
      "  File \"model.py\", line 1182, in load_image_gt\n",
      "    bbox = utils.extract_bboxes(mask)\n",
      "  File \"utils.py\", line 44, in extract_bboxes\n",
      "    mask_rle: run-length as string formated (start length)\n",
      "  File \"/home/jieyang/miniconda2/envs/keras2/lib/python2.7/site-packages/numpy/core/fromnumeric.py\", line 2018, in any\n",
      "    return arr.any(axis=axis, out=out, **kwargs)\n",
      "  File \"/home/jieyang/miniconda2/envs/keras2/lib/python2.7/site-packages/numpy/core/_methods.py\", line 38, in _any\n",
      "    return umr_any(a, axis, dtype, out, keepdims)\n",
      "KeyboardInterrupt\n"
     ]
    },
    {
     "ename": "KeyboardInterrupt",
     "evalue": "",
     "traceback": [
      "\u001b[0;31m---------------------------------------------------------------------------\u001b[0m",
      "\u001b[0;31mKeyboardInterrupt\u001b[0m                         Traceback (most recent call last)",
      "\u001b[0;32m<ipython-input-8-3ae2d863900d>\u001b[0m in \u001b[0;36m<module>\u001b[0;34m()\u001b[0m\n\u001b[1;32m      7\u001b[0m             \u001b[0mlearning_rate\u001b[0m\u001b[0;34m=\u001b[0m\u001b[0mconfig\u001b[0m\u001b[0;34m.\u001b[0m\u001b[0mLEARNING_RATE\u001b[0m\u001b[0;34m,\u001b[0m\u001b[0;34m\u001b[0m\u001b[0m\n\u001b[1;32m      8\u001b[0m             \u001b[0mepochs\u001b[0m\u001b[0;34m=\u001b[0m\u001b[0;36m10\u001b[0m\u001b[0;34m,\u001b[0m\u001b[0;34m\u001b[0m\u001b[0m\n\u001b[0;32m----> 9\u001b[0;31m             layers='heads')\n\u001b[0m",
      "\u001b[0;32m/home/jieyang/code/TOOK18/nuclei_maskrcnn/model.pyc\u001b[0m in \u001b[0;36mtrain\u001b[0;34m(self, train_dataset, val_dataset, learning_rate, epochs, layers)\u001b[0m\n\u001b[1;32m   2268\u001b[0m             \u001b[0mmax_queue_size\u001b[0m\u001b[0;34m=\u001b[0m\u001b[0;36m100\u001b[0m\u001b[0;34m,\u001b[0m\u001b[0;34m\u001b[0m\u001b[0m\n\u001b[1;32m   2269\u001b[0m             \u001b[0mworkers\u001b[0m\u001b[0;34m=\u001b[0m\u001b[0mworkers\u001b[0m\u001b[0;34m,\u001b[0m\u001b[0;34m\u001b[0m\u001b[0m\n\u001b[0;32m-> 2270\u001b[0;31m             \u001b[0muse_multiprocessing\u001b[0m\u001b[0;34m=\u001b[0m\u001b[0mTrue\u001b[0m\u001b[0;34m,\u001b[0m\u001b[0;34m\u001b[0m\u001b[0m\n\u001b[0m\u001b[1;32m   2271\u001b[0m         )\n\u001b[1;32m   2272\u001b[0m         \u001b[0mself\u001b[0m\u001b[0;34m.\u001b[0m\u001b[0mepoch\u001b[0m \u001b[0;34m=\u001b[0m \u001b[0mmax\u001b[0m\u001b[0;34m(\u001b[0m\u001b[0mself\u001b[0m\u001b[0;34m.\u001b[0m\u001b[0mepoch\u001b[0m\u001b[0;34m,\u001b[0m \u001b[0mepochs\u001b[0m\u001b[0;34m)\u001b[0m\u001b[0;34m\u001b[0m\u001b[0m\n",
      "\u001b[0;32m/home/jieyang/miniconda2/envs/keras2/lib/python2.7/site-packages/keras/legacy/interfaces.pyc\u001b[0m in \u001b[0;36mwrapper\u001b[0;34m(*args, **kwargs)\u001b[0m\n\u001b[1;32m     89\u001b[0m                 warnings.warn('Update your `' + object_name +\n\u001b[1;32m     90\u001b[0m                               '` call to the Keras 2 API: ' + signature, stacklevel=2)\n\u001b[0;32m---> 91\u001b[0;31m             \u001b[0;32mreturn\u001b[0m \u001b[0mfunc\u001b[0m\u001b[0;34m(\u001b[0m\u001b[0;34m*\u001b[0m\u001b[0margs\u001b[0m\u001b[0;34m,\u001b[0m \u001b[0;34m**\u001b[0m\u001b[0mkwargs\u001b[0m\u001b[0;34m)\u001b[0m\u001b[0;34m\u001b[0m\u001b[0m\n\u001b[0m\u001b[1;32m     92\u001b[0m         \u001b[0mwrapper\u001b[0m\u001b[0;34m.\u001b[0m\u001b[0m_original_function\u001b[0m \u001b[0;34m=\u001b[0m \u001b[0mfunc\u001b[0m\u001b[0;34m\u001b[0m\u001b[0m\n\u001b[1;32m     93\u001b[0m         \u001b[0;32mreturn\u001b[0m \u001b[0mwrapper\u001b[0m\u001b[0;34m\u001b[0m\u001b[0m\n",
      "\u001b[0;32m/home/jieyang/miniconda2/envs/keras2/lib/python2.7/site-packages/keras/engine/training.pyc\u001b[0m in \u001b[0;36mfit_generator\u001b[0;34m(self, generator, steps_per_epoch, epochs, verbose, callbacks, validation_data, validation_steps, class_weight, max_queue_size, workers, use_multiprocessing, shuffle, initial_epoch)\u001b[0m\n\u001b[1;32m   2175\u001b[0m                     outs = self.train_on_batch(x, y,\n\u001b[1;32m   2176\u001b[0m                                                \u001b[0msample_weight\u001b[0m\u001b[0;34m=\u001b[0m\u001b[0msample_weight\u001b[0m\u001b[0;34m,\u001b[0m\u001b[0;34m\u001b[0m\u001b[0m\n\u001b[0;32m-> 2177\u001b[0;31m                                                class_weight=class_weight)\n\u001b[0m\u001b[1;32m   2178\u001b[0m \u001b[0;34m\u001b[0m\u001b[0m\n\u001b[1;32m   2179\u001b[0m                     \u001b[0;32mif\u001b[0m \u001b[0;32mnot\u001b[0m \u001b[0misinstance\u001b[0m\u001b[0;34m(\u001b[0m\u001b[0mouts\u001b[0m\u001b[0;34m,\u001b[0m \u001b[0mlist\u001b[0m\u001b[0;34m)\u001b[0m\u001b[0;34m:\u001b[0m\u001b[0;34m\u001b[0m\u001b[0m\n",
      "\u001b[0;32m/home/jieyang/miniconda2/envs/keras2/lib/python2.7/site-packages/keras/engine/training.pyc\u001b[0m in \u001b[0;36mtrain_on_batch\u001b[0;34m(self, x, y, sample_weight, class_weight)\u001b[0m\n\u001b[1;32m   1847\u001b[0m             \u001b[0mins\u001b[0m \u001b[0;34m=\u001b[0m \u001b[0mx\u001b[0m \u001b[0;34m+\u001b[0m \u001b[0my\u001b[0m \u001b[0;34m+\u001b[0m \u001b[0msample_weights\u001b[0m\u001b[0;34m\u001b[0m\u001b[0m\n\u001b[1;32m   1848\u001b[0m         \u001b[0mself\u001b[0m\u001b[0;34m.\u001b[0m\u001b[0m_make_train_function\u001b[0m\u001b[0;34m(\u001b[0m\u001b[0;34m)\u001b[0m\u001b[0;34m\u001b[0m\u001b[0m\n\u001b[0;32m-> 1849\u001b[0;31m         \u001b[0moutputs\u001b[0m \u001b[0;34m=\u001b[0m \u001b[0mself\u001b[0m\u001b[0;34m.\u001b[0m\u001b[0mtrain_function\u001b[0m\u001b[0;34m(\u001b[0m\u001b[0mins\u001b[0m\u001b[0;34m)\u001b[0m\u001b[0;34m\u001b[0m\u001b[0m\n\u001b[0m\u001b[1;32m   1850\u001b[0m         \u001b[0;32mif\u001b[0m \u001b[0mlen\u001b[0m\u001b[0;34m(\u001b[0m\u001b[0moutputs\u001b[0m\u001b[0;34m)\u001b[0m \u001b[0;34m==\u001b[0m \u001b[0;36m1\u001b[0m\u001b[0;34m:\u001b[0m\u001b[0;34m\u001b[0m\u001b[0m\n\u001b[1;32m   1851\u001b[0m             \u001b[0;32mreturn\u001b[0m \u001b[0moutputs\u001b[0m\u001b[0;34m[\u001b[0m\u001b[0;36m0\u001b[0m\u001b[0;34m]\u001b[0m\u001b[0;34m\u001b[0m\u001b[0m\n",
      "\u001b[0;32m/home/jieyang/miniconda2/envs/keras2/lib/python2.7/site-packages/keras/backend/tensorflow_backend.pyc\u001b[0m in \u001b[0;36m__call__\u001b[0;34m(self, inputs)\u001b[0m\n\u001b[1;32m   2473\u001b[0m         \u001b[0msession\u001b[0m \u001b[0;34m=\u001b[0m \u001b[0mget_session\u001b[0m\u001b[0;34m(\u001b[0m\u001b[0;34m)\u001b[0m\u001b[0;34m\u001b[0m\u001b[0m\n\u001b[1;32m   2474\u001b[0m         updated = session.run(fetches=fetches, feed_dict=feed_dict,\n\u001b[0;32m-> 2475\u001b[0;31m                               **self.session_kwargs)\n\u001b[0m\u001b[1;32m   2476\u001b[0m         \u001b[0;32mreturn\u001b[0m \u001b[0mupdated\u001b[0m\u001b[0;34m[\u001b[0m\u001b[0;34m:\u001b[0m\u001b[0mlen\u001b[0m\u001b[0;34m(\u001b[0m\u001b[0mself\u001b[0m\u001b[0;34m.\u001b[0m\u001b[0moutputs\u001b[0m\u001b[0;34m)\u001b[0m\u001b[0;34m]\u001b[0m\u001b[0;34m\u001b[0m\u001b[0m\n\u001b[1;32m   2477\u001b[0m \u001b[0;34m\u001b[0m\u001b[0m\n",
      "\u001b[0;32m/home/jieyang/miniconda2/envs/keras2/lib/python2.7/site-packages/tensorflow/python/client/session.pyc\u001b[0m in \u001b[0;36mrun\u001b[0;34m(self, fetches, feed_dict, options, run_metadata)\u001b[0m\n\u001b[1;32m    887\u001b[0m     \u001b[0;32mtry\u001b[0m\u001b[0;34m:\u001b[0m\u001b[0;34m\u001b[0m\u001b[0m\n\u001b[1;32m    888\u001b[0m       result = self._run(None, fetches, feed_dict, options_ptr,\n\u001b[0;32m--> 889\u001b[0;31m                          run_metadata_ptr)\n\u001b[0m\u001b[1;32m    890\u001b[0m       \u001b[0;32mif\u001b[0m \u001b[0mrun_metadata\u001b[0m\u001b[0;34m:\u001b[0m\u001b[0;34m\u001b[0m\u001b[0m\n\u001b[1;32m    891\u001b[0m         \u001b[0mproto_data\u001b[0m \u001b[0;34m=\u001b[0m \u001b[0mtf_session\u001b[0m\u001b[0;34m.\u001b[0m\u001b[0mTF_GetBuffer\u001b[0m\u001b[0;34m(\u001b[0m\u001b[0mrun_metadata_ptr\u001b[0m\u001b[0;34m)\u001b[0m\u001b[0;34m\u001b[0m\u001b[0m\n",
      "\u001b[0;32m/home/jieyang/miniconda2/envs/keras2/lib/python2.7/site-packages/tensorflow/python/client/session.pyc\u001b[0m in \u001b[0;36m_run\u001b[0;34m(self, handle, fetches, feed_dict, options, run_metadata)\u001b[0m\n\u001b[1;32m   1118\u001b[0m     \u001b[0;32mif\u001b[0m \u001b[0mfinal_fetches\u001b[0m \u001b[0;32mor\u001b[0m \u001b[0mfinal_targets\u001b[0m \u001b[0;32mor\u001b[0m \u001b[0;34m(\u001b[0m\u001b[0mhandle\u001b[0m \u001b[0;32mand\u001b[0m \u001b[0mfeed_dict_tensor\u001b[0m\u001b[0;34m)\u001b[0m\u001b[0;34m:\u001b[0m\u001b[0;34m\u001b[0m\u001b[0m\n\u001b[1;32m   1119\u001b[0m       results = self._do_run(handle, final_targets, final_fetches,\n\u001b[0;32m-> 1120\u001b[0;31m                              feed_dict_tensor, options, run_metadata)\n\u001b[0m\u001b[1;32m   1121\u001b[0m     \u001b[0;32melse\u001b[0m\u001b[0;34m:\u001b[0m\u001b[0;34m\u001b[0m\u001b[0m\n\u001b[1;32m   1122\u001b[0m       \u001b[0mresults\u001b[0m \u001b[0;34m=\u001b[0m \u001b[0;34m[\u001b[0m\u001b[0;34m]\u001b[0m\u001b[0;34m\u001b[0m\u001b[0m\n",
      "\u001b[0;32m/home/jieyang/miniconda2/envs/keras2/lib/python2.7/site-packages/tensorflow/python/client/session.pyc\u001b[0m in \u001b[0;36m_do_run\u001b[0;34m(self, handle, target_list, fetch_list, feed_dict, options, run_metadata)\u001b[0m\n\u001b[1;32m   1315\u001b[0m     \u001b[0;32mif\u001b[0m \u001b[0mhandle\u001b[0m \u001b[0;32mis\u001b[0m \u001b[0mNone\u001b[0m\u001b[0;34m:\u001b[0m\u001b[0;34m\u001b[0m\u001b[0m\n\u001b[1;32m   1316\u001b[0m       return self._do_call(_run_fn, self._session, feeds, fetches, targets,\n\u001b[0;32m-> 1317\u001b[0;31m                            options, run_metadata)\n\u001b[0m\u001b[1;32m   1318\u001b[0m     \u001b[0;32melse\u001b[0m\u001b[0;34m:\u001b[0m\u001b[0;34m\u001b[0m\u001b[0m\n\u001b[1;32m   1319\u001b[0m       \u001b[0;32mreturn\u001b[0m \u001b[0mself\u001b[0m\u001b[0;34m.\u001b[0m\u001b[0m_do_call\u001b[0m\u001b[0;34m(\u001b[0m\u001b[0m_prun_fn\u001b[0m\u001b[0;34m,\u001b[0m \u001b[0mself\u001b[0m\u001b[0;34m.\u001b[0m\u001b[0m_session\u001b[0m\u001b[0;34m,\u001b[0m \u001b[0mhandle\u001b[0m\u001b[0;34m,\u001b[0m \u001b[0mfeeds\u001b[0m\u001b[0;34m,\u001b[0m \u001b[0mfetches\u001b[0m\u001b[0;34m)\u001b[0m\u001b[0;34m\u001b[0m\u001b[0m\n",
      "\u001b[0;32m/home/jieyang/miniconda2/envs/keras2/lib/python2.7/site-packages/tensorflow/python/client/session.pyc\u001b[0m in \u001b[0;36m_do_call\u001b[0;34m(self, fn, *args)\u001b[0m\n\u001b[1;32m   1321\u001b[0m   \u001b[0;32mdef\u001b[0m \u001b[0m_do_call\u001b[0m\u001b[0;34m(\u001b[0m\u001b[0mself\u001b[0m\u001b[0;34m,\u001b[0m \u001b[0mfn\u001b[0m\u001b[0;34m,\u001b[0m \u001b[0;34m*\u001b[0m\u001b[0margs\u001b[0m\u001b[0;34m)\u001b[0m\u001b[0;34m:\u001b[0m\u001b[0;34m\u001b[0m\u001b[0m\n\u001b[1;32m   1322\u001b[0m     \u001b[0;32mtry\u001b[0m\u001b[0;34m:\u001b[0m\u001b[0;34m\u001b[0m\u001b[0m\n\u001b[0;32m-> 1323\u001b[0;31m       \u001b[0;32mreturn\u001b[0m \u001b[0mfn\u001b[0m\u001b[0;34m(\u001b[0m\u001b[0;34m*\u001b[0m\u001b[0margs\u001b[0m\u001b[0;34m)\u001b[0m\u001b[0;34m\u001b[0m\u001b[0m\n\u001b[0m\u001b[1;32m   1324\u001b[0m     \u001b[0;32mexcept\u001b[0m \u001b[0merrors\u001b[0m\u001b[0;34m.\u001b[0m\u001b[0mOpError\u001b[0m \u001b[0;32mas\u001b[0m \u001b[0me\u001b[0m\u001b[0;34m:\u001b[0m\u001b[0;34m\u001b[0m\u001b[0m\n\u001b[1;32m   1325\u001b[0m       \u001b[0mmessage\u001b[0m \u001b[0;34m=\u001b[0m \u001b[0mcompat\u001b[0m\u001b[0;34m.\u001b[0m\u001b[0mas_text\u001b[0m\u001b[0;34m(\u001b[0m\u001b[0me\u001b[0m\u001b[0;34m.\u001b[0m\u001b[0mmessage\u001b[0m\u001b[0;34m)\u001b[0m\u001b[0;34m\u001b[0m\u001b[0m\n",
      "\u001b[0;32m/home/jieyang/miniconda2/envs/keras2/lib/python2.7/site-packages/tensorflow/python/client/session.pyc\u001b[0m in \u001b[0;36m_run_fn\u001b[0;34m(session, feed_dict, fetch_list, target_list, options, run_metadata)\u001b[0m\n\u001b[1;32m   1300\u001b[0m           return tf_session.TF_Run(session, options,\n\u001b[1;32m   1301\u001b[0m                                    \u001b[0mfeed_dict\u001b[0m\u001b[0;34m,\u001b[0m \u001b[0mfetch_list\u001b[0m\u001b[0;34m,\u001b[0m \u001b[0mtarget_list\u001b[0m\u001b[0;34m,\u001b[0m\u001b[0;34m\u001b[0m\u001b[0m\n\u001b[0;32m-> 1302\u001b[0;31m                                    status, run_metadata)\n\u001b[0m\u001b[1;32m   1303\u001b[0m \u001b[0;34m\u001b[0m\u001b[0m\n\u001b[1;32m   1304\u001b[0m     \u001b[0;32mdef\u001b[0m \u001b[0m_prun_fn\u001b[0m\u001b[0;34m(\u001b[0m\u001b[0msession\u001b[0m\u001b[0;34m,\u001b[0m \u001b[0mhandle\u001b[0m\u001b[0;34m,\u001b[0m \u001b[0mfeed_dict\u001b[0m\u001b[0;34m,\u001b[0m \u001b[0mfetch_list\u001b[0m\u001b[0;34m)\u001b[0m\u001b[0;34m:\u001b[0m\u001b[0;34m\u001b[0m\u001b[0m\n",
      "\u001b[0;31mKeyboardInterrupt\u001b[0m: "
     ],
     "output_type": "error"
    }
   ],
   "source": [
    "# Train the head branches\n",
    "# Passing layers=\"heads\" freezes all layers except the head\n",
    "# layers. You can also pass a regular expression to select\n",
    "# which layers to train by name pattern.\n",
    "if train_flag:\n",
    "    model.train(dataset_train, dataset_val, \n",
    "            learning_rate=config.LEARNING_RATE, \n",
    "            epochs=10,\n",
    "            layers='heads')"
   ]
  },
  {
   "cell_type": "code",
   "execution_count": null,
   "metadata": {
    "collapsed": true
   },
   "outputs": [],
   "source": [
    "# Fine tune all layers\n",
    "# Passing layers=\"all\" trains all layers. You can also \n",
    "# pass a regular expression to select which layers to\n",
    "# train by name pattern.\n",
    "if train_flag:\n",
    "    model.train(dataset_train, dataset_val, \n",
    "            learning_rate=config.LEARNING_RATE/10.,\n",
    "            epochs=20, \n",
    "            layers=\"all\")"
   ]
  },
  {
   "cell_type": "markdown",
   "metadata": {},
   "source": [
    "### Inference"
   ]
  },
  {
   "cell_type": "code",
   "execution_count": null,
   "metadata": {
    "collapsed": true
   },
   "outputs": [],
   "source": [
    "class InferenceConfig(TrainingConfig):\n",
    "    # Set batch size to 1 since we'll be running inference on\n",
    "    # one image at a time. Batch size = GPU_COUNT * IMAGES_PER_GPU\n",
    "    GPU_COUNT = 1\n",
    "    IMAGES_PER_GPU = 1\n",
    "    \n",
    "inference_config = InferenceConfig()\n",
    "model = modellib.MaskRCNN(mode=\"inference\", \n",
    "                          config=inference_config,\n",
    "                          model_dir=MODEL_DIR)\n",
    "\n",
    "# Get path to saved weights\n",
    "# Either set a specific path or find last trained weights\n",
    "# model_path = os.path.join(ROOT_DIR, \".h5 file name here\")\n",
    "model_path = model.find_last()[1]\n",
    "\n",
    "# Load trained weights (fill in path to trained weights here)\n",
    "assert model_path != \"\", \"Provide path to trained weights\"\n",
    "print(\"Loading weights from \", model_path)\n",
    "model.load_weights(model_path, by_name=True)\n",
    "\n",
    "model_name = model_path.split('/')[-2]"
   ]
  },
  {
   "cell_type": "code",
   "execution_count": null,
   "metadata": {
    "collapsed": true
   },
   "outputs": [],
   "source": [
    "# Test on a random image\n",
    "# image_id = random.choice(dataset_val.image_ids)\n",
    "image_id = 1\n",
    "original_image, image_meta, gt_class_id, gt_bbox, gt_mask =\\\n",
    "    modellib.load_image_gt(dataset_val, inference_config, \n",
    "                           image_id, use_mini_mask=False)\n",
    "    \n",
    "original_image_nr, image_meta_nr, _, gt_bbox_nr, gt_mask_nr =\\\n",
    "    modellib.load_image_gt_noresize(dataset_val, inference_config, \n",
    "                           image_id, use_mini_mask=False)\n",
    "\n",
    "log(\"original_image\", original_image)\n",
    "log(\"image_meta\", image_meta)\n",
    "log(\"gt_class_id\", gt_class_id)\n",
    "log(\"gt_bbox\", gt_bbox)\n",
    "log(\"gt_mask\", gt_mask)\n",
    "\n",
    "visualize.display_instances(original_image_nr, gt_bbox_nr, gt_mask_nr, gt_class_id, \n",
    "                            dataset_train.class_names, figsize=(8, 8))"
   ]
  },
  {
   "cell_type": "code",
   "execution_count": null,
   "metadata": {
    "collapsed": true
   },
   "outputs": [],
   "source": [
    "def get_ax(rows=1, cols=1, size=8):\n",
    "    \"\"\"Return a Matplotlib Axes array to be used in\n",
    "    all visualizations in the notebook. Provide a\n",
    "    central point to control graph sizes.\n",
    "    \n",
    "    Change the default size attribute to control the size\n",
    "    of rendered images\n",
    "    \"\"\"\n",
    "    _, ax = plt.subplots(rows, cols, figsize=(size*cols, size*rows))\n",
    "    return ax\n",
    "\n",
    "results = model.detect([original_image_nr], verbose=1)\n",
    "\n",
    "r = results[0]\n",
    "visualize.display_instances(original_image_nr, r['rois'], r['masks'], r['class_ids'], \n",
    "                            dataset_val.class_names, r['scores'], ax=get_ax())\n",
    "\n",
    "# print dataset_val.image_info[image_id]['path']\n",
    "# img = np.sum(r['masks'],axis=2)\n",
    "# skimage.io.imsave('d827a7d80fc67487a3237135e0d43ae01b7bbcb135e1a167601fc974a8348c51_test.png',img*127)"
   ]
  },
  {
   "cell_type": "code",
   "execution_count": null,
   "metadata": {
    "collapsed": true
   },
   "outputs": [],
   "source": [
    "rmasks = r['masks']\n",
    "# np.save('tmp.npy',rmasks)\n",
    "# rmasks = np.load('tmp.npy')\n",
    "img = np.sum(rmasks,axis=2)\n",
    "print np.argwhere(img==1).shape,np.argwhere(img>1).shape\n",
    "rmasks2 = utils.deoverlap_masks(rmasks)\n",
    "img2 = np.sum(rmasks2,axis=2)\n",
    "print np.argwhere(img2==1).shape,np.argwhere(img2>1).shape"
   ]
  },
  {
   "cell_type": "markdown",
   "metadata": {},
   "source": [
    "### Evaluation"
   ]
  },
  {
   "cell_type": "code",
   "execution_count": null,
   "metadata": {
    "collapsed": true
   },
   "outputs": [],
   "source": [
    "# # Compute VOC-Style mAP @ IoU=0.5\n",
    "# image_ids = np.random.choice(dataset_val.image_ids, len(dataset_val.image_ids))\n",
    "# APs = []\n",
    "# for image_id in image_ids:\n",
    "#     # Load image and ground truth data\n",
    "#     image, image_meta, gt_class_id, gt_bbox, gt_mask =\\\n",
    "#         modellib.load_image_gt(dataset_val, inference_config,\n",
    "#                                image_id, use_mini_mask=False)\n",
    "#     molded_images = np.expand_dims(modellib.mold_image(image, inference_config), 0)\n",
    "#     # Run object detection\n",
    "#     results = model.detect([image], verbose=0)\n",
    "#     r = results[0]\n",
    "#     # Compute AP\n",
    "#     AP, precisions, recalls, overlaps =\\\n",
    "#         utils.compute_ap(gt_bbox, gt_class_id,\n",
    "#                          r[\"rois\"], r[\"class_ids\"], r[\"scores\"])\n",
    "#     APs.append(AP)\n",
    "    \n",
    "# print(\"mAP: \", np.mean(APs))"
   ]
  },
  {
   "cell_type": "code",
   "execution_count": null,
   "metadata": {
    "collapsed": true,
    "scrolled": true
   },
   "outputs": [],
   "source": [
    "# evaluate masks\n",
    "# image_ids = np.random.choice(dataset_val.image_ids, len(dataset_val.image_ids))\n",
    "train_flag = True\n",
    "TEST_VAL_MASK_SAVE_PATH = '/home/jieyang/code/TOOK18/nuclei_maskrcnn/data/stage1_masks_val/'\n",
    "if not os.path.exists(TEST_VAL_MASK_SAVE_PATH+'/'+model_name):\n",
    "    os.makedirs(TEST_VAL_MASK_SAVE_PATH+'/'+model_name)\n",
    "    \n",
    "if train_flag:\n",
    "    APs = []\n",
    "    for image_id in dataset_val.image_ids:\n",
    "        # Load image and ground truth data\n",
    "        image, image_meta, gt_class_id, gt_bbox, gt_mask =\\\n",
    "            modellib.load_image_gt_noresize(dataset_val, inference_config,\n",
    "                                   image_id, use_mini_mask=False)\n",
    "        molded_images = np.expand_dims(modellib.mold_image(image, inference_config), 0)\n",
    "        # Run object detection\n",
    "        results = model.detect([image], verbose=0)\n",
    "        r = results[0]\n",
    "        # Compute AP\n",
    "        AP = utils.sweep_iou_mask_ap(gt_mask, r[\"masks\"], r[\"scores\"])\n",
    "        # print r[\"scores\"]\n",
    "        APs.append(AP)\n",
    "        print np.mean(APs)\n",
    "\n",
    "        train_id = dataset_val.image_info[image_id]['path'].split('/')[-1][:-4]        \n",
    "        \n",
    "        # mask gt\n",
    "        rmaskcollapse_gt = np.zeros((image.shape[0],image.shape[1]))\n",
    "        for i in range(gt_mask.shape[2]):\n",
    "            rmaskcollapse_gt = rmaskcollapse_gt + gt_mask[:,:,i]*(i+1)\n",
    "        rmaskcollapse_gt = skimage.color.label2rgb(rmaskcollapse_gt,bg_label=0)\n",
    "        # mask\n",
    "        masks = r[\"masks\"]\n",
    "        rmaskcollapse = np.zeros((image.shape[0],image.shape[1]))\n",
    "        for i in range(masks.shape[2]):\n",
    "            rmaskcollapse = rmaskcollapse + masks[:,:,i]*(i+1)\n",
    "        rmaskcollapse = skimage.color.label2rgb(rmaskcollapse,bg_label=0)\n",
    "            \n",
    "        skimage.io.imsave(TEST_VAL_MASK_SAVE_PATH+'/'+model_name+'/'+train_id+'_mask.png',\\\n",
    "                  np.concatenate((rmaskcollapse_gt,image/255.,rmaskcollapse),axis=1))\n",
    "    print(\"mAP: \", np.mean(APs))"
   ]
  },
  {
   "cell_type": "markdown",
   "metadata": {},
   "source": [
    "### Test"
   ]
  },
  {
   "cell_type": "code",
   "execution_count": null,
   "metadata": {
    "collapsed": true
   },
   "outputs": [],
   "source": [
    "# Run-length encoding from https://www.kaggle.com/rakhlin/fast-run-length-encoding-python\n",
    "def rle_encoding(x):\n",
    "    dots = np.where(x.T.flatten() == 1)[0]\n",
    "    run_lengths = []\n",
    "    prev = -2\n",
    "    for b in dots:\n",
    "        if (b>prev+1): run_lengths.extend((b + 1, 0))\n",
    "        run_lengths[-1] += 1\n",
    "        prev = b\n",
    "    return run_lengths\n",
    "\n",
    "def prob_to_rles(x, cutoff=0.5):\n",
    "    yield rle_encoding(x > cutoff)\n",
    "    \n",
    "def rle_decoding(rle, shape):\n",
    "    '''\n",
    "    mask_rle: run-length as string formated (start length)\n",
    "    shape: (height,width) of array to return \n",
    "    Returns numpy array, 1 - mask, 0 - background\n",
    "\n",
    "    '''\n",
    "    starts = np.array(rle[::2])\n",
    "    lengths = np.array(rle[1::2])\n",
    "    print starts\n",
    "    print lengths\n",
    "    starts -= 1\n",
    "    ends = starts + lengths\n",
    "    img = np.zeros(shape[0]*shape[1], dtype=np.uint8)\n",
    "    for lo, hi in zip(starts, ends):\n",
    "        img[lo:hi] = 1\n",
    "    return img.reshape(shape,order='F')"
   ]
  },
  {
   "cell_type": "code",
   "execution_count": null,
   "metadata": {
    "collapsed": true,
    "scrolled": true
   },
   "outputs": [],
   "source": [
    "new_test_ids = []\n",
    "rles = []\n",
    "if not os.path.exists(TEST_MASK_SAVE_PATH+'/'+model_name):\n",
    "    os.makedirs(TEST_MASK_SAVE_PATH+'/'+model_name)\n",
    "for image_id in dataset_test.image_ids:\n",
    "    # print image_id\n",
    "    results = model.detect([dataset_test.load_image(image_id)], verbose=0)\n",
    "    r = results[0]\n",
    "    \n",
    "    test_id = dataset_test.image_info[image_id]['path'].split('/')[-1][:-4]\n",
    "    \n",
    "    rmaskcollapse = np.zeros((r['masks'].shape[0],r['masks'].shape[1]))\n",
    "    for i in range(r['masks'].shape[2]):\n",
    "        rmaskcollapse = rmaskcollapse + r['masks'][:,:,i]*(i+1)\n",
    "        \n",
    "    skimage.io.imsave(TEST_MASK_SAVE_PATH+'/'+model_name+'/'+test_id+'_mask.png',\\\n",
    "               np.concatenate((dataset_test.load_image(image_id)/255.,skimage.color.label2rgb(rmaskcollapse,bg_label=0)),axis=1))\n",
    "    \n",
    "    for i in range(r['masks'].shape[2]):\n",
    "        rle = list(prob_to_rles(r['masks'][:,:,i]))\n",
    "        rles.extend(rle)\n",
    "        new_test_ids.append(test_id)"
   ]
  },
  {
   "cell_type": "code",
   "execution_count": null,
   "metadata": {
    "collapsed": true
   },
   "outputs": [],
   "source": [
    "rle = list(prob_to_rles(r['masks'][:,:,0]))\n",
    "img = rle_decoding(rle[0], r['masks'][:,:,0].shape)\n",
    "plt.imshow(img)\n",
    "plt.figure()\n",
    "plt.imshow(r['masks'][:,:,0])"
   ]
  },
  {
   "cell_type": "code",
   "execution_count": null,
   "metadata": {
    "collapsed": true
   },
   "outputs": [],
   "source": [
    "# Create submission DataFrame\n",
    "sub = pd.DataFrame()\n",
    "sub['ImageId'] = new_test_ids\n",
    "sub['EncodedPixels'] = pd.Series(rles).apply(lambda x: ' '.join(str(y) for y in x))\n",
    "sub.to_csv('submission/sub-test-'+model_name+'.csv', index=False)"
   ]
  },
  {
   "cell_type": "code",
   "execution_count": null,
   "metadata": {
    "collapsed": true
   },
   "outputs": [],
   "source": [
    "for image_id in dataset_train.image_ids:\n",
    "    train_id = dataset_train.image_info[image_id]['path'].split('/')[-1][:-4]\n",
    "    img = dataset_train.load_image(image_id)\n",
    "    masks = dataset_train.load_mask(image_id)[0]\n",
    "\n",
    "    rmaskcollapse = np.zeros((img.shape[0],img.shape[1]))\n",
    "    for i in range(masks.shape[2]):\n",
    "        rmaskcollapse = rmaskcollapse + masks[:,:,i]*(i+1)\n",
    "    \n",
    "    # skimage.io.imsave('/home/jieyang/code/TOOK18/nuclei_maskrcnn/data/stage1_masks_train/'+train_id+'_mask.png',\\\n",
    "    #           np.concatenate((img/255.,skimage.color.label2rgb(rmaskcollapse,bg_label=0)),axis=1))\n"
   ]
  },
  {
   "cell_type": "code",
   "execution_count": null,
   "metadata": {
    "collapsed": true
   },
   "outputs": [],
   "source": [
    "for image_id in dataset_val.image_ids:\n",
    "    train_id = dataset_val.image_info[image_id]['path'].split('/')[-1][:-4]\n",
    "    img = dataset_val.load_image(image_id)\n",
    "    masks = dataset_val.load_mask(image_id)[0]\n",
    "    \n",
    "    rmaskcollapse = np.zeros((img.shape[0],img.shape[1]))\n",
    "    for i in range(masks.shape[2]):\n",
    "        rmaskcollapse = rmaskcollapse + masks[:,:,i]*(i+1)\n",
    "        \n",
    "    # skimage.io.imsave('/home/jieyang/code/TOOK18/nuclei_maskrcnn/data/stage1_masks_train/val/'+train_id+'_mask.png',\\\n",
    "    #          np.concatenate((img/255.,skimage.color.label2rgb(rmaskcollapse,bg_label=0)),axis=1))\n"
   ]
  },
  {
   "cell_type": "code",
   "execution_count": null,
   "metadata": {
    "collapsed": true
   },
   "outputs": [],
   "source": [
    "sys.path.append('/home/jieyang/code/TOOK18/Detectron_nuclei/lib/utils/')\n",
    "from segms import mask_to_bbox"
   ]
  },
  {
   "cell_type": "code",
   "execution_count": null,
   "metadata": {
    "collapsed": true
   },
   "outputs": [],
   "source": [
    "masks_dicts = []\n",
    "images_dicts = []\n",
    "\n",
    "categories_dicts = [];\n",
    "category_dict = {}\n",
    "category_dict['id'] = 1\n",
    "category_dict['name'] = 'nuclei'\n",
    "categories_dicts.append(category_dict)\n",
    "\n",
    "for image_id in dataset_train.image_ids:\n",
    "    train_id = dataset_train.image_info[image_id]['path'].split('/')[-1][:-4] # id\n",
    "    masks = np.asfortranarray(dataset_train.load_mask(image_id)[0].astype(np.uint8))\n",
    "\n",
    "    image_dict = {}\n",
    "    image_dict['id'] = image_id\n",
    "    image_dict['width'] = masks.shape[1]\n",
    "    image_dict['height'] = masks.shape[0]\n",
    "    image_dict['file_name'] = train_id+'.png'\n",
    "    \n",
    "    images_dicts.append(image_dict)\n",
    "    \n",
    "    # bboxes = utils.extract_bboxes(masks)\n",
    "    # rles = encode(masks)\n",
    "    for i in range(masks.shape[2]):\n",
    "        mask_dict = {}\n",
    "        mask_dict['id'] = image_id*100000+i\n",
    "        mask_dict['image_id'] = image_id\n",
    "        mask_dict['category_id'] = 1\n",
    "        # mask_dict['segmentation'] = rles[i]\n",
    "        rle_tmp = list(prob_to_rles(masks[:,:,i]))[0]\n",
    "        \n",
    "        for k in range(2,len(rle_tmp),2):\n",
    "            rle_tmp[k] = rle_tmp[k] - sum(rle_tmp[:k])\n",
    "        rle_tmp[0] -= 1\n",
    "        rle_tmp.append(masks.shape[0]*masks.shape[1]-sum(rle_tmp))\n",
    "        \n",
    "        rle_dict = {}\n",
    "        rle_dict['counts'] = rle_tmp\n",
    "        rle_dict['size'] = [masks.shape[0],masks.shape[1]]\n",
    "        \n",
    "        mask_dict['segmentation'] = rle_dict\n",
    "        mask_dict['area'] = int(np.count_nonzero(masks[:,:,i]))\n",
    "        # mask_dict['bbox'] = list(bboxes[i].astype('int'))\n",
    "        mask_dict['bbox'] = list(mask_to_bbox(masks[:,:,i]).astype('int'))\n",
    "        mask_dict['iscrowd'] = 1\n",
    "        \n",
    "        mask_dict['image_longid'] = train_id\n",
    "        masks_dicts.append(mask_dict)\n",
    "\n",
    "all_dict = {}\n",
    "all_dict['type'] = 'instances'\n",
    "all_dict['images'] = images_dicts\n",
    "all_dict['annotations'] = masks_dicts\n",
    "all_dict['categories'] = categories_dicts"
   ]
  },
  {
   "cell_type": "code",
   "execution_count": null,
   "metadata": {
    "collapsed": true
   },
   "outputs": [],
   "source": [
    "with open('nucleidata_train_new_bbox.json', 'w') as outfile:\n",
    "    json.dump(all_dict, outfile)"
   ]
  },
  {
   "cell_type": "code",
   "execution_count": null,
   "metadata": {
    "collapsed": true
   },
   "outputs": [],
   "source": [
    "masks_dicts = []\n",
    "images_dicts = []\n",
    "\n",
    "categories_dicts = [];\n",
    "category_dict = {}\n",
    "category_dict['id'] = 1\n",
    "category_dict['name'] = 'nuclei'\n",
    "categories_dicts.append(category_dict)\n",
    "\n",
    "for image_id in dataset_val.image_ids:\n",
    "    train_id = dataset_val.image_info[image_id]['path'].split('/')[-1][:-4] # id\n",
    "    masks = np.asfortranarray(dataset_val.load_mask(image_id)[0].astype(np.uint8))\n",
    "\n",
    "    image_dict = {}\n",
    "    image_dict['id'] = image_id\n",
    "    image_dict['width'] = masks.shape[1]\n",
    "    image_dict['height'] = masks.shape[0]\n",
    "    image_dict['file_name'] = train_id+'.png'\n",
    "    \n",
    "    images_dicts.append(image_dict)\n",
    "    \n",
    "    # bboxes = utils.extract_bboxes(masks)\n",
    "    # rles = encode(masks)\n",
    "    # print rles[0]['counts']\n",
    "    for i in range(masks.shape[2]):\n",
    "        mask_dict = {}\n",
    "        mask_dict['id'] = image_id*100000+i\n",
    "        mask_dict['image_id'] = image_id\n",
    "        mask_dict['category_id'] = 1\n",
    "        # mask_dict['segmentation'] = rles[i]\n",
    "        rle_tmp = list(prob_to_rles(masks[:,:,i]))[0]\n",
    "        \n",
    "        for k in range(2,len(rle_tmp),2):\n",
    "            rle_tmp[k] = rle_tmp[k] - sum(rle_tmp[:k])\n",
    "        rle_tmp[0] -= 1\n",
    "        rle_tmp.append(masks.shape[0]*masks.shape[1]-sum(rle_tmp))\n",
    "        \n",
    "        rle_dict = {}\n",
    "        rle_dict['counts'] = rle_tmp\n",
    "        rle_dict['size'] = [masks.shape[0],masks.shape[1]]\n",
    "        # mask_coco.frPyObjects(rle_dict,masks.shape[0],masks.shape[1])['counts']\n",
    "        mask_dict['segmentation'] = rle_dict\n",
    "        mask_dict['area'] = int(np.count_nonzero(masks[:,:,i]))\n",
    "        # mask_dict['bbox'] = list(bboxes[i].astype('int'))\n",
    "        mask_dict['bbox'] = list(mask_to_bbox(masks[:,:,i]).astype('int'))\n",
    "        mask_dict['iscrowd'] = 1\n",
    "        \n",
    "        mask_dict['image_longid'] = train_id\n",
    "        masks_dicts.append(mask_dict)\n",
    "\n",
    "all_dict = {}\n",
    "all_dict['type'] = 'instances'\n",
    "all_dict['images'] = images_dicts\n",
    "all_dict['annotations'] = masks_dicts\n",
    "all_dict['categories'] = categories_dicts"
   ]
  },
  {
   "cell_type": "code",
   "execution_count": null,
   "metadata": {
    "collapsed": true
   },
   "outputs": [],
   "source": [
    "with open('nucleidata_val_new_bbox.json', 'w') as outfile:\n",
    "    json.dump(all_dict, outfile)"
   ]
  },
  {
   "cell_type": "code",
   "execution_count": null,
   "metadata": {
    "collapsed": true
   },
   "outputs": [],
   "source": [
    "images_dicts = []\n",
    "\n",
    "categories_dicts = [];\n",
    "category_dict = {}\n",
    "category_dict['id'] = 1\n",
    "category_dict['name'] = 'nuclei'\n",
    "categories_dicts.append(category_dict)\n",
    "\n",
    "for image_id in dataset_test.image_ids:\n",
    "    train_id = dataset_test.image_info[image_id]['path'].split('/')[-1][:-4] # id\n",
    "\n",
    "    image_dict = {}\n",
    "    image_dict['id'] = image_id\n",
    "    image_dict['width'] = masks.shape[1]\n",
    "    image_dict['height'] = masks.shape[0]\n",
    "    image_dict['file_name'] = train_id+'.png'\n",
    "    \n",
    "    images_dicts.append(image_dict)\n",
    "    \n",
    "all_dict = {}\n",
    "all_dict['type'] = 'instances'\n",
    "all_dict['images'] = images_dicts\n",
    "all_dict['categories'] = categories_dicts"
   ]
  },
  {
   "cell_type": "code",
   "execution_count": null,
   "metadata": {
    "collapsed": true
   },
   "outputs": [],
   "source": [
    "with open('nucleidata_test.json', 'w') as outfile:\n",
    "    json.dump(all_dict, outfile)"
   ]
  },
  {
   "cell_type": "code",
   "execution_count": null,
   "metadata": {
    "collapsed": true
   },
   "outputs": [],
   "source": [
    "im = masks[:,:,0]\n",
    "ret,thresh = cv2.threshold(im,127,255,0)\n",
    "im2,contour,h = cv2.findContours(thresh,cv2.RETR_TREE,cv2.CHAIN_APPROX_SIMPLE)\n",
    "cv2.drawContours(thresh,contour,-1,(128,255,0),1)\n",
    "cv2.imshow('title',thresh)\n",
    "cv2.waitKey()"
   ]
  },
  {
   "cell_type": "code",
   "execution_count": null,
   "metadata": {
    "collapsed": true
   },
   "outputs": [],
   "source": [
    "def mask2list(mask):\n",
    "    _,thresh = cv2.threshold(mask,127,255,0)\n",
    "    _,contour,_ = cv2.findContours(thresh,cv2.RETR_TREE,cv2.CHAIN_APPROX_SIMPLE)\n",
    "    list_tmp = (np.squeeze(contour[0]).reshape(np.prod(contour[0].shape),1)).tolist()\n",
    "    flat_list = [i for l in list_tmp for i in l]\n",
    "    return flat_list"
   ]
  },
  {
   "cell_type": "code",
   "execution_count": null,
   "metadata": {
    "collapsed": true
   },
   "outputs": [],
   "source": [
    "masks_dicts = []\n",
    "images_dicts = []\n",
    "\n",
    "categories_dicts = [];\n",
    "category_dict = {}\n",
    "category_dict['id'] = 1\n",
    "category_dict['name'] = 'nuclei'\n",
    "categories_dicts.append(category_dict)\n",
    "\n",
    "for image_id in dataset_train.image_ids:\n",
    "    train_id = dataset_train.image_info[image_id]['path'].split('/')[-1][:-4] # id\n",
    "    masks = np.asfortranarray(dataset_train.load_mask(image_id)[0].astype(np.uint8))\n",
    "\n",
    "    image_dict = {}\n",
    "    image_dict['id'] = image_id\n",
    "    image_dict['width'] = masks.shape[1]\n",
    "    image_dict['height'] = masks.shape[0]\n",
    "    image_dict['file_name'] = train_id+'.png'\n",
    "    \n",
    "    images_dicts.append(image_dict)\n",
    "    \n",
    "    # bboxes = utils.extract_bboxes(masks)\n",
    "    # rles = encode(masks)\n",
    "    for i in range(masks.shape[2]):\n",
    "        mask_dict = {}\n",
    "        mask_dict['id'] = image_id*100000+i\n",
    "        mask_dict['image_id'] = image_id\n",
    "        mask_dict['category_id'] = 1\n",
    "        # mask_dict['segmentation'] = rles[i]\n",
    "        \n",
    "        mask_dict['segmentation'] = [mask2list(masks[:,:,i])]\n",
    "        mask_dict['area'] = int(np.count_nonzero(masks[:,:,i]))\n",
    "        # mask_dict['bbox'] = list(bboxes[i].astype('int'))\n",
    "        mask_dict['bbox'] = list(mask_to_bbox(masks[:,:,i]))\n",
    "        mask_dict['iscrowd'] = 0\n",
    "        \n",
    "        mask_dict['image_longid'] = train_id\n",
    "        masks_dicts.append(mask_dict)\n",
    "\n",
    "all_dict = {}\n",
    "all_dict['type'] = 'instances'\n",
    "all_dict['images'] = images_dicts\n",
    "all_dict['annotations'] = masks_dicts\n",
    "all_dict['categories'] = categories_dicts"
   ]
  },
  {
   "cell_type": "code",
   "execution_count": null,
   "metadata": {
    "collapsed": true
   },
   "outputs": [],
   "source": [
    "with open('nucleidata_train_poly.json', 'w') as outfile:\n",
    "    json.dump(all_dict, outfile)"
   ]
  },
  {
   "cell_type": "code",
   "execution_count": null,
   "metadata": {
    "collapsed": true
   },
   "outputs": [],
   "source": [
    "mask_from_poly = np.squeeze(mask_coco.decode(_mask_coco.frPyObjects([mask2list(masks[:,:,1])],masks.shape[0],masks.shape[1])))\n",
    "plt.imshow(mask_from_poly*255. - masks[:,:,1])"
   ]
  },
  {
   "cell_type": "code",
   "execution_count": null,
   "metadata": {
    "collapsed": true
   },
   "outputs": [],
   "source": [
    "mask_coco.encode(masks[:,:,-1])"
   ]
  },
  {
   "cell_type": "code",
   "execution_count": null,
   "metadata": {
    "collapsed": true
   },
   "outputs": [],
   "source": []
  }
 ],
 "metadata": {
  "kernelspec": {
   "display_name": "Python 2",
   "language": "python",
   "name": "python2"
  },
  "language_info": {
   "codemirror_mode": {
    "name": "ipython",
    "version": 2
   },
   "file_extension": ".py",
   "mimetype": "text/x-python",
   "name": "python",
   "nbconvert_exporter": "python",
   "pygments_lexer": "ipython2",
   "version": "2.7.13"
  }
 },
 "nbformat": 4,
 "nbformat_minor": 2
}
